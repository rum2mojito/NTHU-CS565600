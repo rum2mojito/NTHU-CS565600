{
 "cells": [
  {
   "cell_type": "code",
   "execution_count": 1,
   "metadata": {},
   "outputs": [
    {
     "name": "stdout",
     "output_type": "stream",
     "text": [
      "Accuracy: 0.89\n",
      "Accuracy per feature: 0.44\n"
     ]
    }
   ],
   "source": [
    "from sklearn.tree import DecisionTreeClassifier\n",
    "from sklearn.model_selection import train_test_split\n",
    "from sklearn.datasets import load_breast_cancer\n",
    "import pandas as pd\n",
    "from sklearn.metrics import accuracy_score\n",
    "from sklearn.ensemble import RandomForestClassifier\n",
    "from sklearn.feature_selection import SelectFromModel\n",
    "import numpy as np\n",
    "\n",
    "# load the breast_cancer dataset\n",
    "init_data = load_breast_cancer()\n",
    "(X, y) = load_breast_cancer(return_X_y=True)\n",
    "X = pd.DataFrame(data=X, columns=init_data['feature_names'])\n",
    "y = pd.DataFrame(data=y, columns=['label'])['label']\n",
    "\n",
    "# split X into training and testing sets\n",
    "X_train, X_test, y_train, y_test = train_test_split(X, y, test_size=0.3, random_state=0)\n",
    "\n",
    "# Train a RandomForestClassifier as model\n",
    "forest = RandomForestClassifier(criterion='entropy',\n",
    "                                n_estimators=200,\n",
    "                                random_state=1,\n",
    "                                n_jobs=2)\n",
    "forest.fit(X_train, y_train)\n",
    "\n",
    "# sfm = SelectFromModel(forest, threshold=0.16, prefit=True)\n",
    "# Z_forest_alt = sfm.transform(X)\n",
    "importances = forest.feature_importances_\n",
    "indices = np.argsort(importances)[::]\n",
    "# X_refine = np.array([])\n",
    "X_refine = X\n",
    "for f in range(X_train.shape[1]):\n",
    "    X_refine = X_refine.drop(X.columns.values[indices[f]], 1)\n",
    "    X_train_refine, X_test_refine, y_train_refine, y_test_refine = train_test_split(X_refine, y, test_size=0.3, random_state=0)\n",
    "    forest_refine = RandomForestClassifier(criterion='entropy',\n",
    "                                    n_estimators=200,\n",
    "                                    random_state=1,\n",
    "                                    n_jobs=2)\n",
    "    forest_refine.fit(X_train_refine, y_train_refine)\n",
    "    y_pred_refine = forest_refine.predict(X_test_refine)\n",
    "    if round(accuracy_score(y_test_refine, y_pred_refine)/X_refine.shape[1], 2) == 0.44:\n",
    "        print('Accuracy: %.2f' % accuracy_score(y_test_refine, y_pred_refine))\n",
    "        print('Accuracy per feature: %.2f' % (accuracy_score(y_test_refine, y_pred_refine)/X_refine.shape[1]))\n",
    "        break"
   ]
  }
 ],
 "metadata": {
  "kernelspec": {
   "display_name": "Python (dl)",
   "language": "python",
   "name": "dl"
  },
  "language_info": {
   "codemirror_mode": {
    "name": "ipython",
    "version": 3
   },
   "file_extension": ".py",
   "mimetype": "text/x-python",
   "name": "python",
   "nbconvert_exporter": "python",
   "pygments_lexer": "ipython3",
   "version": "3.5.6"
  }
 },
 "nbformat": 4,
 "nbformat_minor": 2
}
