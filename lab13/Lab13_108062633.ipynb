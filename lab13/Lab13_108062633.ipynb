{
 "cells": [
  {
   "cell_type": "code",
   "execution_count": 1,
   "metadata": {},
   "outputs": [],
   "source": [
    "import tensorflow as tf\n",
    "import pandas as pd\n",
    "import re\n",
    "import numpy as np\n",
    "import os\n",
    "import time\n",
    "\n",
    "from sklearn.model_selection import train_test_split"
   ]
  },
  {
   "cell_type": "code",
   "execution_count": 2,
   "metadata": {},
   "outputs": [
    {
     "name": "stdout",
     "output_type": "stream",
     "text": [
      "1 Physical GPUs, 1 Logical GPUs\n"
     ]
    }
   ],
   "source": [
    "gpus = tf.config.experimental.list_physical_devices('GPU')\n",
    "if gpus:\n",
    "    try:\n",
    "        # Restrict TensorFlow to only use the first GPU\n",
    "        tf.config.experimental.set_visible_devices(gpus[0], 'GPU')\n",
    "\n",
    "        # Currently, memory growth needs to be the same across GPUs\n",
    "        for gpu in gpus:\n",
    "            tf.config.experimental.set_memory_growth(gpu, True)\n",
    "        logical_gpus = tf.config.experimental.list_logical_devices('GPU')\n",
    "        print(len(gpus), \"Physical GPUs,\", len(logical_gpus), \"Logical GPUs\")\n",
    "    except RuntimeError as e:\n",
    "        # Memory growth must be set before GPUs have been initialized\n",
    "        print(e)"
   ]
  },
  {
   "cell_type": "code",
   "execution_count": 3,
   "metadata": {},
   "outputs": [],
   "source": [
    "# load the dataset\n",
    "movie_reviews = pd.read_csv(\"./IMDB Dataset.csv\")"
   ]
  },
  {
   "cell_type": "code",
   "execution_count": 4,
   "metadata": {},
   "outputs": [
    {
     "data": {
      "text/plain": [
       "False"
      ]
     },
     "execution_count": 4,
     "metadata": {},
     "output_type": "execute_result"
    }
   ],
   "source": [
    "# check if there is any null value in the dataset\n",
    "movie_reviews.isnull().values.any()"
   ]
  },
  {
   "cell_type": "code",
   "execution_count": 5,
   "metadata": {},
   "outputs": [
    {
     "data": {
      "text/plain": [
       "(50000, 2)"
      ]
     },
     "execution_count": 5,
     "metadata": {},
     "output_type": "execute_result"
    }
   ],
   "source": [
    "# show the size of the dataset\n",
    "movie_reviews.shape"
   ]
  },
  {
   "cell_type": "code",
   "execution_count": 6,
   "metadata": {},
   "outputs": [
    {
     "data": {
      "text/html": [
       "<div>\n",
       "<style scoped>\n",
       "    .dataframe tbody tr th:only-of-type {\n",
       "        vertical-align: middle;\n",
       "    }\n",
       "\n",
       "    .dataframe tbody tr th {\n",
       "        vertical-align: top;\n",
       "    }\n",
       "\n",
       "    .dataframe thead th {\n",
       "        text-align: right;\n",
       "    }\n",
       "</style>\n",
       "<table border=\"1\" class=\"dataframe\">\n",
       "  <thead>\n",
       "    <tr style=\"text-align: right;\">\n",
       "      <th></th>\n",
       "      <th>review</th>\n",
       "      <th>sentiment</th>\n",
       "    </tr>\n",
       "  </thead>\n",
       "  <tbody>\n",
       "    <tr>\n",
       "      <th>0</th>\n",
       "      <td>One of the other reviewers has mentioned that ...</td>\n",
       "      <td>positive</td>\n",
       "    </tr>\n",
       "    <tr>\n",
       "      <th>1</th>\n",
       "      <td>A wonderful little production. &lt;br /&gt;&lt;br /&gt;The...</td>\n",
       "      <td>positive</td>\n",
       "    </tr>\n",
       "    <tr>\n",
       "      <th>2</th>\n",
       "      <td>I thought this was a wonderful way to spend ti...</td>\n",
       "      <td>positive</td>\n",
       "    </tr>\n",
       "    <tr>\n",
       "      <th>3</th>\n",
       "      <td>Basically there's a family where a little boy ...</td>\n",
       "      <td>negative</td>\n",
       "    </tr>\n",
       "    <tr>\n",
       "      <th>4</th>\n",
       "      <td>Petter Mattei's \"Love in the Time of Money\" is...</td>\n",
       "      <td>positive</td>\n",
       "    </tr>\n",
       "  </tbody>\n",
       "</table>\n",
       "</div>"
      ],
      "text/plain": [
       "                                              review sentiment\n",
       "0  One of the other reviewers has mentioned that ...  positive\n",
       "1  A wonderful little production. <br /><br />The...  positive\n",
       "2  I thought this was a wonderful way to spend ti...  positive\n",
       "3  Basically there's a family where a little boy ...  negative\n",
       "4  Petter Mattei's \"Love in the Time of Money\" is...  positive"
      ]
     },
     "execution_count": 6,
     "metadata": {},
     "output_type": "execute_result"
    }
   ],
   "source": [
    "# show the first five data in the dataset\n",
    "movie_reviews.head()"
   ]
  },
  {
   "cell_type": "code",
   "execution_count": 7,
   "metadata": {},
   "outputs": [
    {
     "data": {
      "text/plain": [
       "\"One of the other reviewers has mentioned that after watching just 1 Oz episode you'll be hooked. They are right, as this is exactly what happened with me.<br /><br />The first thing that struck me about Oz was its brutality and unflinching scenes of violence, which set in right from the word GO. Trust me, this is not a show for the faint hearted or timid. This show pulls no punches with regards to drugs, sex or violence. Its is hardcore, in the classic use of the word.<br /><br />It is called OZ as that is the nickname given to the Oswald Maximum Security State Penitentary. It focuses mainly on Emerald City, an experimental section of the prison where all the cells have glass fronts and face inwards, so privacy is not high on the agenda. Em City is home to many..Aryans, Muslims, gangstas, Latinos, Christians, Italians, Irish and more....so scuffles, death stares, dodgy dealings and shady agreements are never far away.<br /><br />I would say the main appeal of the show is due to the fact that it goes where other shows wouldn't dare. Forget pretty pictures painted for mainstream audiences, forget charm, forget romance...OZ doesn't mess around. The first episode I ever saw struck me as so nasty it was surreal, I couldn't say I was ready for it, but as I watched more, I developed a taste for Oz, and got accustomed to the high levels of graphic violence. Not just violence, but injustice (crooked guards who'll be sold out for a nickel, inmates who'll kill on order and get away with it, well mannered, middle class inmates being turned into prison bitches due to their lack of street skills or prison experience) Watching Oz, you may become comfortable with what is uncomfortable viewing....thats if you can get in touch with your darker side.\""
      ]
     },
     "execution_count": 7,
     "metadata": {},
     "output_type": "execute_result"
    }
   ],
   "source": [
    "movie_reviews[\"review\"][0]"
   ]
  },
  {
   "cell_type": "code",
   "execution_count": 8,
   "metadata": {},
   "outputs": [],
   "source": [
    "TAG_RE = re.compile(r'<[^>]+>')\n",
    "\n",
    "\n",
    "def remove_tags(text):\n",
    "    return TAG_RE.sub('', text)\n",
    "\n",
    "\n",
    "def preprocess_text(sen):\n",
    "    # Removing html tags\n",
    "    sentence = remove_tags(sen)\n",
    "\n",
    "    # Remove punctuations and numbers\n",
    "    sentence = re.sub('[^a-zA-Z]', ' ', sentence)\n",
    "\n",
    "    # Single character removal\n",
    "    sentence = re.sub(r\"\\s+[a-zA-Z]\\s+\", ' ', sentence)\n",
    "\n",
    "    # Removing multiple spaces\n",
    "    sentence = re.sub(r'\\s+', ' ', sentence)\n",
    "\n",
    "    return sentence"
   ]
  },
  {
   "cell_type": "code",
   "execution_count": 9,
   "metadata": {},
   "outputs": [],
   "source": [
    "X = []\n",
    "sentences = list(movie_reviews['review'])\n",
    "for sen in sentences:\n",
    "    X.append(preprocess_text(sen))\n",
    "\n",
    "\n",
    "# replace the positive with 1, replace the negative with 0\n",
    "y = movie_reviews['sentiment']\n",
    "y = np.array(list(map(lambda x: 1 if x == \"positive\" else 0, y)))"
   ]
  },
  {
   "cell_type": "code",
   "execution_count": 10,
   "metadata": {},
   "outputs": [],
   "source": [
    "# Split the training dataset and test dataset\n",
    "X_train, X_test, y_train, y_test = train_test_split(\n",
    "    X, y, test_size=0.20, random_state=42)"
   ]
  },
  {
   "cell_type": "code",
   "execution_count": 11,
   "metadata": {},
   "outputs": [],
   "source": [
    "tokenizer = tf.keras.preprocessing.text.Tokenizer(num_words=10000)\n",
    "tokenizer.fit_on_texts(X_train)\n",
    "\n",
    "X_train = tokenizer.texts_to_sequences(X_train)\n",
    "X_test = tokenizer.texts_to_sequences(X_test)\n",
    "\n",
    "max_len = 100\n",
    "\n",
    "# padding sentences to the same length\n",
    "X_train = tf.keras.preprocessing.sequence.pad_sequences(\n",
    "    X_train, padding='post', maxlen=max_len)\n",
    "X_test = tf.keras.preprocessing.sequence.pad_sequences(\n",
    "    X_test, padding='post', maxlen=max_len)"
   ]
  },
  {
   "cell_type": "code",
   "execution_count": 12,
   "metadata": {},
   "outputs": [
    {
     "data": {
      "text/plain": [
       "array([ 100,   20,  155,   81,   17,   46,   14,    1,   98, 4696,    2,\n",
       "       2508, 1560,    2,    1,  864,    1,  100,  639,   51,    7,    5,\n",
       "         19,  188,  403,    1,  546,    9,   21,    5, 4342,   51,    7,\n",
       "       1810,  585,    4, 2408,  417,   33,    1,  296,   41, 1264,   63,\n",
       "         19,  250,  137,   30, 1069,  100,   31,  107,   60,   14,    1,\n",
       "         76,   98,    7,    1,   12,    2,  628, 4808,    5, 1082, 6747,\n",
       "        541,   13,  259,    4, 2408,  897,    2,    1,  204,  132, 1181,\n",
       "         32,  700,    2, 7163,   26,    1,  603,  455,  220,   94, 1052,\n",
       "          8,   12,   91,   23,   71, 1681,   15,    6,  211,   82,   99,\n",
       "          6])"
      ]
     },
     "execution_count": 12,
     "metadata": {},
     "output_type": "execute_result"
    }
   ],
   "source": [
    "# show the preprocessed data\n",
    "X_train[1]"
   ]
  },
  {
   "cell_type": "code",
   "execution_count": 13,
   "metadata": {},
   "outputs": [
    {
     "data": {
      "text/plain": [
       "(TensorShape([64, 100]), TensorShape([64]))"
      ]
     },
     "execution_count": 13,
     "metadata": {},
     "output_type": "execute_result"
    }
   ],
   "source": [
    "BUFFER_SIZE = len(X_train)\n",
    "BATCH_SIZE = 64\n",
    "steps_per_epoch = len(X_train)//BATCH_SIZE\n",
    "embedding_dim = 256\n",
    "units = 1024\n",
    "# only reserve 10000 words\n",
    "vocab_size = 10000\n",
    "\n",
    "dataset = tf.data.Dataset.from_tensor_slices(\n",
    "    (X_train, y_train)).shuffle(BUFFER_SIZE)\n",
    "dataset = dataset.batch(BATCH_SIZE, drop_remainder=True)\n",
    "\n",
    "example_input_batch, example_target_batch = next(iter(dataset))\n",
    "example_input_batch.shape, example_target_batch.shape"
   ]
  },
  {
   "cell_type": "code",
   "execution_count": 14,
   "metadata": {},
   "outputs": [],
   "source": [
    "class Encoder(tf.keras.Model):\n",
    "    def __init__(self, vocab_size, embedding_dim, enc_units, batch_sz):\n",
    "        # vacab_size=10000, embedding_dim=256 enc_units=1024 batch_sz=64\n",
    "        super(Encoder, self).__init__()\n",
    "        self.batch_sz = batch_sz\n",
    "        self.enc_units = enc_units\n",
    "        self.embedding = tf.keras.layers.Embedding(vocab_size, embedding_dim)\n",
    "        self.gru = tf.keras.layers.GRU(self.enc_units,\n",
    "                                       return_sequences=True,\n",
    "                                       return_state=True,\n",
    "                                       recurrent_activation='sigmoid',\n",
    "                                       recurrent_initializer='glorot_uniform')\n",
    "\n",
    "    def call(self, x, hidden):\n",
    "        # x is the training data，shape == (batch_size，max_length)  -> (64, 100)\n",
    "        # which means there are batch_size sentences in one batch, the length of each sentence is max_length\n",
    "        # hidden state shape == (batch_size, units) -> (64, 1024)\n",
    "        # after embedding, x shape == (batch_size, max_length, embedding_dim) -> (64, 100, 256)\n",
    "        x = self.embedding(x)\n",
    "        # output contains the state(in GRU, hidden state equals to output in each timestamp) from all timestamps,\n",
    "        # output shape == (batch_size, max_length, units) -> (64, 100, 1024)\n",
    "        # state is the hidden state of the last timestamp, shape == (batch_size, units) -> (64, 1024)\n",
    "        output, state = self.gru(x, initial_state=hidden)\n",
    "        # output contains the whole output of the sequence, state is the hidden state of the last timestamp\n",
    "        return output, state\n",
    "\n",
    "    def initialize_hidden_state(self):\n",
    "        # initialize the first state of the gru,  shape == (batch_size, units) -> (64,1024)\n",
    "        return tf.zeros((self.batch_sz, self.enc_units))"
   ]
  },
  {
   "cell_type": "code",
   "execution_count": 15,
   "metadata": {},
   "outputs": [
    {
     "name": "stdout",
     "output_type": "stream",
     "text": [
      "Encoder output shape: (batch size, sequence length, units) (64, 100, 1024)\n",
      "Encoder Hidden state shape: (batch size, units) (64, 1024)\n",
      "tf.Tensor([ True  True  True ...  True  True  True], shape=(1024,), dtype=bool)\n"
     ]
    }
   ],
   "source": [
    "encoder = Encoder(vocab_size, embedding_dim, units, BATCH_SIZE)\n",
    "\n",
    "# sample input\n",
    "sample_hidden = encoder.initialize_hidden_state()\n",
    "sample_output, sample_hidden = encoder(example_input_batch, sample_hidden)\n",
    "print('Encoder output shape: (batch size, sequence length, units) {}'.format(\n",
    "    sample_output.shape))\n",
    "print('Encoder Hidden state shape: (batch size, units) {}'.format(sample_hidden.shape))\n",
    "# the output and the hidden state of GRU is equal\n",
    "print(sample_output[-1, -1, :] == sample_hidden[-1, :])"
   ]
  },
  {
   "cell_type": "code",
   "execution_count": 49,
   "metadata": {},
   "outputs": [],
   "source": [
    "class LuongAttention(tf.keras.Model):\n",
    "    def __init__(self, units):\n",
    "        super(LuongAttention, self).__init__()\n",
    "        self.W1 = tf.keras.layers.Dense(units)\n",
    "        #self.V = tf.keras.layers.Dense(1)\n",
    "\n",
    "    def call(self, query, values):\n",
    "        # query shape == (batch_size, hidden size)\n",
    "        # hidden_with_time_axis shape == (batch_size, 1, hidden size)\n",
    "        # we are doing this to perform addition to calculate the score\n",
    "        hidden_with_time_axis = tf.expand_dims(query, 1)\n",
    "\n",
    "        # score shape == (batch_size, max_length, 1)\n",
    "        # we get 1 at the last axis because we are applying score to self.V\n",
    "        # the shape of the tensor before applying self.V is (batch_size, max_length, units)\n",
    "        score = tf.matmul(values, self.W1(hidden_with_time_axis), transpose_b=True)\n",
    "\n",
    "        # attention_weights shape == (batch_size, max_length, 1)\n",
    "        attention_weights = tf.nn.softmax(score, axis=1)\n",
    "\n",
    "        # context_vector shape == (batch_size, max_length, hidden_size)\n",
    "        context_vector = attention_weights * values\n",
    "        # context_vector shape after sum == (batch_size, hidden_size)\n",
    "        context_vector = tf.reduce_sum(context_vector, axis=1)\n",
    "\n",
    "        return context_vector, attention_weights"
   ]
  },
  {
   "cell_type": "code",
   "execution_count": 50,
   "metadata": {},
   "outputs": [],
   "source": [
    "class Decoder(tf.keras.Model):\n",
    "    def __init__(self, dec_units, batch_sz):\n",
    "        super(Decoder, self).__init__()\n",
    "        self.batch_sz = batch_sz\n",
    "        self.dec_units = dec_units\n",
    "        # through four fully connected layers, the model will return the probability of the positivity of the sentence\n",
    "        self.fc_1 = tf.keras.layers.Dense(2048)\n",
    "        self.fc_2 = tf.keras.layers.Dense(512)\n",
    "        self.fc_3 = tf.keras.layers.Dense(64)\n",
    "        self.fc_4 = tf.keras.layers.Dense(1)\n",
    "\n",
    "        # used for attention\n",
    "        self.attention = LuongAttention(self.dec_units)\n",
    "\n",
    "    def call(self, hidden, enc_output):\n",
    "        context_vector, attention_weights = self.attention(hidden, enc_output)\n",
    "\n",
    "        output = self.fc_1(context_vector)\n",
    "        output = self.fc_2(output)\n",
    "        output = self.fc_3(output)\n",
    "        output = self.fc_4(output)\n",
    "\n",
    "        return output, attention_weights"
   ]
  },
  {
   "cell_type": "code",
   "execution_count": 51,
   "metadata": {},
   "outputs": [
    {
     "name": "stdout",
     "output_type": "stream",
     "text": [
      "Decoder output shape: (batch_size, vocab size) (64, 1)\n"
     ]
    }
   ],
   "source": [
    "decoder = Decoder(units, BATCH_SIZE)\n",
    "\n",
    "sample_decoder_output, _ = decoder(sample_hidden, sample_output)\n",
    "\n",
    "print('Decoder output shape: (batch_size, vocab size) {}'.format(\n",
    "    sample_decoder_output.shape))"
   ]
  },
  {
   "cell_type": "code",
   "execution_count": 52,
   "metadata": {},
   "outputs": [],
   "source": [
    "optimizer = tf.keras.optimizers.Adam()\n",
    "loss_object = tf.keras.losses.BinaryCrossentropy(from_logits=True)\n",
    "\n",
    "\n",
    "def loss_function(real, pred):\n",
    "    loss_ = loss_object(real, pred)\n",
    "\n",
    "    return tf.reduce_mean(loss_)"
   ]
  },
  {
   "cell_type": "code",
   "execution_count": 53,
   "metadata": {},
   "outputs": [],
   "source": [
    "checkpoint_dir = 'checkpoints/sentiment-analysis-luong-attention'\n",
    "\n",
    "checkpoint_prefix = os.path.join(checkpoint_dir, \"ckpt\")\n",
    "checkpoint = tf.train.Checkpoint(optimizer=optimizer,\n",
    "                                 encoder=encoder,\n",
    "                                 decoder=decoder)"
   ]
  },
  {
   "cell_type": "code",
   "execution_count": 54,
   "metadata": {},
   "outputs": [],
   "source": [
    "@tf.function\n",
    "def train_step(inp, targ, enc_hidden):\n",
    "    loss = 0\n",
    "\n",
    "    with tf.GradientTape() as tape:\n",
    "        enc_output, enc_hidden = encoder(inp, enc_hidden)\n",
    "\n",
    "        # passing enc_output to the decoder\n",
    "        predictions, _ = decoder(enc_hidden, enc_output)\n",
    "\n",
    "        loss = loss_function(targ, predictions)\n",
    "\n",
    "    # collect all trainable variables\n",
    "    variables = encoder.trainable_variables + decoder.trainable_variables\n",
    "\n",
    "    # calculate the gradients for the whole variables\n",
    "    gradients = tape.gradient(loss, variables)\n",
    "\n",
    "    # apply the gradients on the variables\n",
    "    optimizer.apply_gradients(zip(gradients, variables))\n",
    "\n",
    "    return loss"
   ]
  },
  {
   "cell_type": "code",
   "execution_count": 55,
   "metadata": {},
   "outputs": [
    {
     "name": "stdout",
     "output_type": "stream",
     "text": [
      "Epoch 1 Batch 0 Loss 0.6933\n",
      "Epoch 1 Batch 100 Loss 0.3926\n",
      "Epoch 1 Batch 200 Loss 0.4408\n",
      "Epoch 1 Batch 300 Loss 0.3186\n",
      "Epoch 1 Batch 400 Loss 0.3397\n",
      "Epoch 1 Batch 500 Loss 0.2418\n",
      "Epoch 1 Batch 600 Loss 0.2122\n",
      "Epoch 1 Loss 0.3776\n",
      "Time taken for 1 epoch 62.52020001411438 sec\n",
      "\n",
      "Epoch 2 Batch 0 Loss 0.2561\n",
      "Epoch 2 Batch 100 Loss 0.1821\n",
      "Epoch 2 Batch 200 Loss 0.2031\n",
      "Epoch 2 Batch 300 Loss 0.3159\n",
      "Epoch 2 Batch 400 Loss 0.1652\n",
      "Epoch 2 Batch 500 Loss 0.3268\n",
      "Epoch 2 Batch 600 Loss 0.2221\n",
      "Epoch 2 Loss 0.2440\n",
      "Time taken for 1 epoch 62.54110646247864 sec\n",
      "\n",
      "Epoch 3 Batch 0 Loss 0.1062\n",
      "Epoch 3 Batch 100 Loss 0.1308\n",
      "Epoch 3 Batch 200 Loss 0.2391\n",
      "Epoch 3 Batch 300 Loss 0.1443\n",
      "Epoch 3 Batch 400 Loss 0.1532\n",
      "Epoch 3 Batch 500 Loss 0.1722\n",
      "Epoch 3 Batch 600 Loss 0.1102\n",
      "Epoch 3 Loss 0.1755\n",
      "Time taken for 1 epoch 62.10853052139282 sec\n",
      "\n",
      "Epoch 4 Batch 0 Loss 0.1206\n",
      "Epoch 4 Batch 100 Loss 0.0421\n",
      "Epoch 4 Batch 200 Loss 0.0513\n",
      "Epoch 4 Batch 300 Loss 0.0282\n",
      "Epoch 4 Batch 400 Loss 0.0631\n",
      "Epoch 4 Batch 500 Loss 0.0611\n",
      "Epoch 4 Batch 600 Loss 0.1749\n",
      "Epoch 4 Loss 0.1109\n",
      "Time taken for 1 epoch 64.19774293899536 sec\n",
      "\n",
      "Epoch 5 Batch 0 Loss 0.0372\n",
      "Epoch 5 Batch 100 Loss 0.1001\n",
      "Epoch 5 Batch 200 Loss 0.0447\n",
      "Epoch 5 Batch 300 Loss 0.0657\n",
      "Epoch 5 Batch 400 Loss 0.0587\n",
      "Epoch 5 Batch 500 Loss 0.0663\n",
      "Epoch 5 Batch 600 Loss 0.2075\n",
      "Epoch 5 Loss 0.0715\n",
      "Time taken for 1 epoch 61.18682909011841 sec\n",
      "\n",
      "Epoch 6 Batch 0 Loss 0.0037\n",
      "Epoch 6 Batch 100 Loss 0.0021\n",
      "Epoch 6 Batch 200 Loss 0.0503\n",
      "Epoch 6 Batch 300 Loss 0.0939\n",
      "Epoch 6 Batch 400 Loss 0.0242\n",
      "Epoch 6 Batch 500 Loss 0.0119\n",
      "Epoch 6 Batch 600 Loss 0.0142\n",
      "Epoch 6 Loss 0.0579\n",
      "Time taken for 1 epoch 63.526556730270386 sec\n",
      "\n",
      "Epoch 7 Batch 0 Loss 0.0530\n",
      "Epoch 7 Batch 100 Loss 0.0068\n",
      "Epoch 7 Batch 200 Loss 0.0246\n",
      "Epoch 7 Batch 300 Loss 0.0083\n",
      "Epoch 7 Batch 400 Loss 0.0278\n",
      "Epoch 7 Batch 500 Loss 0.0703\n",
      "Epoch 7 Batch 600 Loss 0.0584\n",
      "Epoch 7 Loss 0.0431\n",
      "Time taken for 1 epoch 61.111841678619385 sec\n",
      "\n",
      "Epoch 8 Batch 0 Loss 0.0192\n",
      "Epoch 8 Batch 100 Loss 0.0145\n",
      "Epoch 8 Batch 200 Loss 0.0195\n",
      "Epoch 8 Batch 300 Loss 0.0538\n",
      "Epoch 8 Batch 400 Loss 0.0023\n",
      "Epoch 8 Batch 500 Loss 0.0500\n",
      "Epoch 8 Batch 600 Loss 0.0708\n",
      "Epoch 8 Loss 0.0327\n",
      "Time taken for 1 epoch 64.06634044647217 sec\n",
      "\n",
      "Epoch 9 Batch 0 Loss 0.0244\n",
      "Epoch 9 Batch 100 Loss 0.0404\n",
      "Epoch 9 Batch 200 Loss 0.0464\n",
      "Epoch 9 Batch 300 Loss 0.0169\n",
      "Epoch 9 Batch 400 Loss 0.0103\n",
      "Epoch 9 Batch 500 Loss 0.0283\n",
      "Epoch 9 Batch 600 Loss 0.0324\n",
      "Epoch 9 Loss 0.0267\n",
      "Time taken for 1 epoch 61.553473234176636 sec\n",
      "\n",
      "Epoch 10 Batch 0 Loss 0.0019\n",
      "Epoch 10 Batch 100 Loss 0.0199\n",
      "Epoch 10 Batch 200 Loss 0.0636\n",
      "Epoch 10 Batch 300 Loss 0.0071\n",
      "Epoch 10 Batch 400 Loss 0.0078\n",
      "Epoch 10 Batch 500 Loss 0.0139\n",
      "Epoch 10 Batch 600 Loss 0.0055\n",
      "Epoch 10 Loss 0.0251\n",
      "Time taken for 1 epoch 63.202767848968506 sec\n",
      "\n"
     ]
    }
   ],
   "source": [
    "# set the epochs for training\n",
    "EPOCHS = 10\n",
    "\n",
    "for epoch in range(EPOCHS):\n",
    "    start = time.time()\n",
    "\n",
    "    # get the initial hidden state of gru\n",
    "    enc_hidden = encoder.initialize_hidden_state()\n",
    "    total_loss = 0\n",
    "\n",
    "    for (batch, (inp, targ)) in enumerate(dataset.take(steps_per_epoch)):\n",
    "        batch_loss = train_step(inp, targ, enc_hidden)\n",
    "        total_loss += batch_loss\n",
    "\n",
    "        if batch % 100 == 0:\n",
    "            print('Epoch {} Batch {} Loss {:.4f}'.format(epoch + 1,\n",
    "                                                         batch,\n",
    "                                                         batch_loss.numpy()))\n",
    "\n",
    "    # saving (checkpoint) the model every 2 epochs\n",
    "    if (epoch + 1) % 2 == 0:\n",
    "        checkpoint.save(file_prefix=checkpoint_prefix)\n",
    "\n",
    "    print('Epoch {} Loss {:.4f}'.format(epoch + 1,\n",
    "                                        total_loss / steps_per_epoch))\n",
    "    print('Time taken for 1 epoch {} sec\\n'.format(time.time() - start))"
   ]
  },
  {
   "cell_type": "code",
   "execution_count": 56,
   "metadata": {},
   "outputs": [
    {
     "name": "stdout",
     "output_type": "stream",
     "text": [
      "checkpoints/sentiment-analysis-luong-attention\\ckpt-5\n"
     ]
    },
    {
     "data": {
      "text/plain": [
       "<tensorflow.python.training.tracking.util.CheckpointLoadStatus at 0x1eea3bedb00>"
      ]
     },
     "execution_count": 56,
     "metadata": {},
     "output_type": "execute_result"
    }
   ],
   "source": [
    "print(tf.train.latest_checkpoint(checkpoint_dir))\n",
    "# restoring the latest checkpoint in checkpoint_dir\n",
    "checkpoint.restore(tf.train.latest_checkpoint(checkpoint_dir))"
   ]
  },
  {
   "cell_type": "code",
   "execution_count": 57,
   "metadata": {},
   "outputs": [],
   "source": [
    "def evaluate(test_data):\n",
    "\n",
    "    y_predicts = []\n",
    "    attention_weights_list = []\n",
    "\n",
    "    for i in range(len(test_data)):\n",
    "\n",
    "        input_data = tf.expand_dims(tf.convert_to_tensor(test_data[i]), 0)\n",
    "        enc_hidden = [tf.zeros((1, units))]\n",
    "        enc_output, enc_hidden = encoder(input_data, enc_hidden)\n",
    "\n",
    "        # passing enc_output to the decoder\n",
    "        predictions, attention_weights = decoder(enc_hidden, enc_output)\n",
    "        # convert the tensor to numpy list\n",
    "        attention_weights_list.append(\n",
    "            attention_weights.numpy().flatten().tolist())\n",
    "        y_predicts.append(1 if predictions >= 0.5 else 0)\n",
    "\n",
    "    return y_predicts, attention_weights_list"
   ]
  },
  {
   "cell_type": "code",
   "execution_count": 58,
   "metadata": {},
   "outputs": [],
   "source": [
    "y_predicts, attention_weights_list = evaluate(X_test)"
   ]
  },
  {
   "cell_type": "code",
   "execution_count": 59,
   "metadata": {},
   "outputs": [
    {
     "name": "stdout",
     "output_type": "stream",
     "text": [
      "Accuracy:  0.8435\n"
     ]
    }
   ],
   "source": [
    "print('Accuracy: ', (y_predicts == y_test).sum() / len(y_test))"
   ]
  },
  {
   "cell_type": "code",
   "execution_count": 60,
   "metadata": {},
   "outputs": [
    {
     "name": "stdout",
     "output_type": "stream",
     "text": [
      "y_true:  1\n",
      "y_predict:  0\n",
      "michaels every terrible just however on were terrible is event on match shawn is vs took named terrible the terrible \n",
      "\n",
      "y_true:  1\n",
      "y_predict:  1\n",
      "premiere in delighted shift many just many passing insomnia the farscape and and ways was admit happened broken many developed \n",
      "\n",
      "y_true:  0\n",
      "y_predict:  0\n",
      "plan action and your chance in changes of like enjoy seems they really so does the first do me logic \n",
      "\n",
      "y_true:  1\n",
      "y_predict:  1\n",
      "northam awesome in recommended excellent bates are sister and jane of and also does brilliant doors the she capturing \n",
      "\n",
      "y_true:  0\n",
      "y_predict:  0\n",
      "obnoxious sickening frustrating supposed be supposed be thinking to and be to further big off to another mildly just carell \n",
      "\n",
      "y_true:  1\n",
      "y_predict:  1\n",
      "most and farley time spade great intellectual but but favorites movie all friendly one office that it this and of \n",
      "\n",
      "y_true:  1\n",
      "y_predict:  1\n",
      "live images as due well and world with this and this subtitles shows who in over ages some film unfair \n",
      "\n",
      "y_true:  1\n",
      "y_predict:  1\n",
      "quasi of the secret affair most with tony car an with from because free keeping along the brain cards feels \n",
      "\n",
      "y_true:  0\n",
      "y_predict:  0\n",
      "conflict biased tiny supposed made need to strings this universe out just better is of to audiences is to little \n",
      "\n",
      "y_true:  0\n",
      "y_predict:  0\n",
      "loud you and out unless laughed senses re translate liners stuck one at moments and and my while coffee laughed \n",
      "\n",
      "y_true:  0\n",
      "y_predict:  0\n",
      "another after suspicion babe does better another dream that here of as just mediocre seen what film this in the \n",
      "\n",
      "y_true:  1\n",
      "y_predict:  1\n",
      "back also like hard sharky the sharky despite find and fights always great doesn and good boss street turns building \n",
      "\n",
      "y_true:  0\n",
      "y_predict:  0\n",
      "skills are made aired to got who the unsure movies the and on than and somehow still who island is \n",
      "\n",
      "y_true:  0\n",
      "y_predict:  0\n",
      "selling pity bother stinks off this graphics thing gave worse for if garbage the you have what rip you believe \n",
      "\n",
      "y_true:  0\n",
      "y_predict:  0\n",
      "lundgren film somehow grade below films clear script something is has dolph israeli even bad he that written all for \n",
      "\n",
      "y_true:  1\n",
      "y_predict:  1\n",
      "comparisons question the use renowned completely beautiful past there this it opposed symbolism movie what status main characters is makes \n",
      "\n",
      "y_true:  1\n",
      "y_predict:  0\n",
      "an standout previously over involving sequences was current gang definitely one has its worth the sequence their one \n",
      "\n",
      "y_true:  1\n",
      "y_predict:  1\n",
      "waters john sights enjoy egg as soundtrack will dvd deranged the the in the alive queens about images with from \n",
      "\n",
      "y_true:  1\n",
      "y_predict:  1\n",
      "with classics shares significant story our fairly visuals cast with great music gripping failing note the though of space brains \n",
      "\n",
      "y_true:  1\n",
      "y_predict:  1\n",
      "certainly looking interesting worth also your of comments at this desired performances also that movie correct with is \n",
      "\n"
     ]
    }
   ],
   "source": [
    "import heapq\n",
    "\n",
    "# show the twenty most focused words to explain the result\n",
    "# just need to show the first twenty results\n",
    "for index, data in enumerate(X_test[:20]):\n",
    "    print('y_true: ', y_test[index])\n",
    "    print('y_predict: ', y_predicts[index])\n",
    "\n",
    "    # get the twenty biggest attention weights to show\n",
    "    big_weights = heapq.nlargest(20, attention_weights_list[index])\n",
    "\n",
    "    for weight in big_weights:\n",
    "        # get the index of the word\n",
    "        word_index = data[attention_weights_list[index].index(weight)]\n",
    "        if word_index != 0:\n",
    "            # show the twenty most focused words\n",
    "            print(tokenizer.index_word[word_index], end=' ')\n",
    "\n",
    "    print('\\n')"
   ]
  },
  {
   "cell_type": "code",
   "execution_count": null,
   "metadata": {},
   "outputs": [],
   "source": []
  }
 ],
 "metadata": {
  "kernelspec": {
   "display_name": "tf2",
   "language": "python",
   "name": "tf2"
  },
  "language_info": {
   "codemirror_mode": {
    "name": "ipython",
    "version": 3
   },
   "file_extension": ".py",
   "mimetype": "text/x-python",
   "name": "python",
   "nbconvert_exporter": "python",
   "pygments_lexer": "ipython3",
   "version": "3.6.9"
  }
 },
 "nbformat": 4,
 "nbformat_minor": 2
}
