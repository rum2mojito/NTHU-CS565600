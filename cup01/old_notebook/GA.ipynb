{
 "cells": [
  {
   "cell_type": "code",
   "execution_count": 3,
   "metadata": {},
   "outputs": [],
   "source": [
    "import argparse\n",
    "from apiclient.discovery import build\n",
    "from oauth2client.service_account import ServiceAccountCredentials\n",
    "import httplib2\n",
    "from oauth2client import client\n",
    "from oauth2client import file\n",
    "from oauth2client import tools\n",
    "SCOPES = ['https://www.googleapis.com/auth/analytics.readonly']\n",
    "DISCOVERY_URI = ('https://analyticsreporting.googleapis.com/$discovery/rest')\n",
    "KEY_FILE_LOCATION = 'C:\\\\Users\\\\yuwei\\\\Documents\\\\CS565600\\\\cup01\\\\My First Project-2d655c2904ac.p12'\n",
    "SERVICE_ACCOUNT_EMAIL = 'stone-1000@eco-channel-257005.iam.gserviceaccount.com'\n",
    "VIEW_ID = '204660894'"
   ]
  },
  {
   "cell_type": "code",
   "execution_count": 4,
   "metadata": {},
   "outputs": [
    {
     "ename": "HttpError",
     "evalue": "<HttpError 403 when requesting https://analyticsreporting.googleapis.com/v4/reports:batchGet?alt=json returned \"Analytics Reporting API has not been used in project 433788882574 before or it is disabled. Enable it by visiting https://console.developers.google.com/apis/api/analyticsreporting.googleapis.com/overview?project=433788882574 then retry. If you enabled this API recently, wait a few minutes for the action to propagate to our systems and retry.\". Details: \"[{'@type': 'type.googleapis.com/google.rpc.Help', 'links': [{'description': 'Google developers console API activation', 'url': 'https://console.developers.google.com/apis/api/analyticsreporting.googleapis.com/overview?project=433788882574'}]}]\">",
     "output_type": "error",
     "traceback": [
      "\u001b[1;31m---------------------------------------------------------------------------\u001b[0m",
      "\u001b[1;31mHttpError\u001b[0m                                 Traceback (most recent call last)",
      "\u001b[1;32m<ipython-input-4-8dbeb1a6ed5c>\u001b[0m in \u001b[0;36m<module>\u001b[1;34m\u001b[0m\n\u001b[0;32m     67\u001b[0m   \u001b[0mprint_response\u001b[0m\u001b[1;33m(\u001b[0m\u001b[0mresponse\u001b[0m\u001b[1;33m)\u001b[0m\u001b[1;33m\u001b[0m\u001b[1;33m\u001b[0m\u001b[0m\n\u001b[0;32m     68\u001b[0m \u001b[1;32mif\u001b[0m \u001b[0m__name__\u001b[0m \u001b[1;33m==\u001b[0m \u001b[1;34m'__main__'\u001b[0m\u001b[1;33m:\u001b[0m\u001b[1;33m\u001b[0m\u001b[1;33m\u001b[0m\u001b[0m\n\u001b[1;32m---> 69\u001b[1;33m   \u001b[0mmain\u001b[0m\u001b[1;33m(\u001b[0m\u001b[1;33m)\u001b[0m\u001b[1;33m\u001b[0m\u001b[1;33m\u001b[0m\u001b[0m\n\u001b[0m",
      "\u001b[1;32m<ipython-input-4-8dbeb1a6ed5c>\u001b[0m in \u001b[0;36mmain\u001b[1;34m()\u001b[0m\n\u001b[0;32m     64\u001b[0m \u001b[1;32mdef\u001b[0m \u001b[0mmain\u001b[0m\u001b[1;33m(\u001b[0m\u001b[1;33m)\u001b[0m\u001b[1;33m:\u001b[0m\u001b[1;33m\u001b[0m\u001b[1;33m\u001b[0m\u001b[0m\n\u001b[0;32m     65\u001b[0m   \u001b[0manalytics\u001b[0m \u001b[1;33m=\u001b[0m \u001b[0minitialize_analyticsreporting\u001b[0m\u001b[1;33m(\u001b[0m\u001b[1;33m)\u001b[0m\u001b[1;33m\u001b[0m\u001b[1;33m\u001b[0m\u001b[0m\n\u001b[1;32m---> 66\u001b[1;33m   \u001b[0mresponse\u001b[0m \u001b[1;33m=\u001b[0m \u001b[0mget_report\u001b[0m\u001b[1;33m(\u001b[0m\u001b[0manalytics\u001b[0m\u001b[1;33m)\u001b[0m\u001b[1;33m\u001b[0m\u001b[1;33m\u001b[0m\u001b[0m\n\u001b[0m\u001b[0;32m     67\u001b[0m   \u001b[0mprint_response\u001b[0m\u001b[1;33m(\u001b[0m\u001b[0mresponse\u001b[0m\u001b[1;33m)\u001b[0m\u001b[1;33m\u001b[0m\u001b[1;33m\u001b[0m\u001b[0m\n\u001b[0;32m     68\u001b[0m \u001b[1;32mif\u001b[0m \u001b[0m__name__\u001b[0m \u001b[1;33m==\u001b[0m \u001b[1;34m'__main__'\u001b[0m\u001b[1;33m:\u001b[0m\u001b[1;33m\u001b[0m\u001b[1;33m\u001b[0m\u001b[0m\n",
      "\u001b[1;32m<ipython-input-4-8dbeb1a6ed5c>\u001b[0m in \u001b[0;36mget_report\u001b[1;34m(analytics)\u001b[0m\n\u001b[0;32m     40\u001b[0m                   ],\n\u001b[0;32m     41\u001b[0m                   \"orderBys\": [\n\u001b[1;32m---> 42\u001b[1;33m                       \u001b[1;33m{\u001b[0m\u001b[1;34m\"fieldName\"\u001b[0m\u001b[1;33m:\u001b[0m \u001b[1;34m\"ga:pageviews\"\u001b[0m\u001b[1;33m,\u001b[0m \u001b[1;34m\"sortOrder\"\u001b[0m\u001b[1;33m:\u001b[0m \u001b[1;34m\"DESCENDING\"\u001b[0m\u001b[1;33m}\u001b[0m\u001b[1;33m\u001b[0m\u001b[1;33m\u001b[0m\u001b[0m\n\u001b[0m\u001b[0;32m     43\u001b[0m                   ]\n\u001b[0;32m     44\u001b[0m               }\n",
      "\u001b[1;32m~\\.conda\\envs\\tf2\\lib\\site-packages\\googleapiclient\\_helpers.py\u001b[0m in \u001b[0;36mpositional_wrapper\u001b[1;34m(*args, **kwargs)\u001b[0m\n\u001b[0;32m    128\u001b[0m                 \u001b[1;32melif\u001b[0m \u001b[0mpositional_parameters_enforcement\u001b[0m \u001b[1;33m==\u001b[0m \u001b[0mPOSITIONAL_WARNING\u001b[0m\u001b[1;33m:\u001b[0m\u001b[1;33m\u001b[0m\u001b[1;33m\u001b[0m\u001b[0m\n\u001b[0;32m    129\u001b[0m                     \u001b[0mlogger\u001b[0m\u001b[1;33m.\u001b[0m\u001b[0mwarning\u001b[0m\u001b[1;33m(\u001b[0m\u001b[0mmessage\u001b[0m\u001b[1;33m)\u001b[0m\u001b[1;33m\u001b[0m\u001b[1;33m\u001b[0m\u001b[0m\n\u001b[1;32m--> 130\u001b[1;33m             \u001b[1;32mreturn\u001b[0m \u001b[0mwrapped\u001b[0m\u001b[1;33m(\u001b[0m\u001b[1;33m*\u001b[0m\u001b[0margs\u001b[0m\u001b[1;33m,\u001b[0m \u001b[1;33m**\u001b[0m\u001b[0mkwargs\u001b[0m\u001b[1;33m)\u001b[0m\u001b[1;33m\u001b[0m\u001b[1;33m\u001b[0m\u001b[0m\n\u001b[0m\u001b[0;32m    131\u001b[0m         \u001b[1;32mreturn\u001b[0m \u001b[0mpositional_wrapper\u001b[0m\u001b[1;33m\u001b[0m\u001b[1;33m\u001b[0m\u001b[0m\n\u001b[0;32m    132\u001b[0m \u001b[1;33m\u001b[0m\u001b[0m\n",
      "\u001b[1;32m~\\.conda\\envs\\tf2\\lib\\site-packages\\googleapiclient\\http.py\u001b[0m in \u001b[0;36mexecute\u001b[1;34m(self, http, num_retries)\u001b[0m\n\u001b[0;32m    854\u001b[0m       \u001b[0mcallback\u001b[0m\u001b[1;33m(\u001b[0m\u001b[0mresp\u001b[0m\u001b[1;33m)\u001b[0m\u001b[1;33m\u001b[0m\u001b[1;33m\u001b[0m\u001b[0m\n\u001b[0;32m    855\u001b[0m     \u001b[1;32mif\u001b[0m \u001b[0mresp\u001b[0m\u001b[1;33m.\u001b[0m\u001b[0mstatus\u001b[0m \u001b[1;33m>=\u001b[0m \u001b[1;36m300\u001b[0m\u001b[1;33m:\u001b[0m\u001b[1;33m\u001b[0m\u001b[1;33m\u001b[0m\u001b[0m\n\u001b[1;32m--> 856\u001b[1;33m       \u001b[1;32mraise\u001b[0m \u001b[0mHttpError\u001b[0m\u001b[1;33m(\u001b[0m\u001b[0mresp\u001b[0m\u001b[1;33m,\u001b[0m \u001b[0mcontent\u001b[0m\u001b[1;33m,\u001b[0m \u001b[0muri\u001b[0m\u001b[1;33m=\u001b[0m\u001b[0mself\u001b[0m\u001b[1;33m.\u001b[0m\u001b[0muri\u001b[0m\u001b[1;33m)\u001b[0m\u001b[1;33m\u001b[0m\u001b[1;33m\u001b[0m\u001b[0m\n\u001b[0m\u001b[0;32m    857\u001b[0m     \u001b[1;32mreturn\u001b[0m \u001b[0mself\u001b[0m\u001b[1;33m.\u001b[0m\u001b[0mpostproc\u001b[0m\u001b[1;33m(\u001b[0m\u001b[0mresp\u001b[0m\u001b[1;33m,\u001b[0m \u001b[0mcontent\u001b[0m\u001b[1;33m)\u001b[0m\u001b[1;33m\u001b[0m\u001b[1;33m\u001b[0m\u001b[0m\n\u001b[0;32m    858\u001b[0m \u001b[1;33m\u001b[0m\u001b[0m\n",
      "\u001b[1;31mHttpError\u001b[0m: <HttpError 403 when requesting https://analyticsreporting.googleapis.com/v4/reports:batchGet?alt=json returned \"Analytics Reporting API has not been used in project 433788882574 before or it is disabled. Enable it by visiting https://console.developers.google.com/apis/api/analyticsreporting.googleapis.com/overview?project=433788882574 then retry. If you enabled this API recently, wait a few minutes for the action to propagate to our systems and retry.\". Details: \"[{'@type': 'type.googleapis.com/google.rpc.Help', 'links': [{'description': 'Google developers console API activation', 'url': 'https://console.developers.google.com/apis/api/analyticsreporting.googleapis.com/overview?project=433788882574'}]}]\">"
     ]
    }
   ],
   "source": [
    "def initialize_analyticsreporting():\n",
    "  \"\"\"Initializes an analyticsreporting service object.\n",
    "  Returns:\n",
    "    analytics an authorized analyticsreporting service object.\n",
    "  \"\"\"\n",
    "  credentials = ServiceAccountCredentials.from_p12_keyfile(\n",
    "    SERVICE_ACCOUNT_EMAIL, KEY_FILE_LOCATION, scopes=SCOPES)\n",
    "  http = credentials.authorize(httplib2.Http())\n",
    "  # Build the service object.\n",
    "  analytics = build('analytics', 'v4', http=http, discoveryServiceUrl=DISCOVERY_URI)\n",
    "  return analytics\n",
    "def get_report(analytics):\n",
    "  # Use the Analytics Service Object to query the Analytics Reporting API V4.\n",
    "  return analytics.reports().batchGet(\n",
    "        # Get sessions number from the last 7 days\n",
    "#       body={\n",
    "#         'reportRequests': [\n",
    "#         {\n",
    "#           'viewId': VIEW_ID,\n",
    "#           'dateRanges': [{'startDate': '7daysAgo', 'endDate': 'today'}],\n",
    "#           'metrics': [{'expression': 'ga:sessions'}]\n",
    "#         }]\n",
    "#       }\n",
    "      # Get posts from last 7 days\n",
    "      body={\n",
    "          'reportRequests': [\n",
    "              {\n",
    "                  'viewId': VIEW_ID,\n",
    "                  'dateRanges': [{'startDate': '7daysAgo', 'endDate': 'today'}],\n",
    "                  'metrics': [\n",
    "                      {'expression': 'ga:pageviews'},\n",
    "                      {'expression': 'ga:uniquePageviews'},\n",
    "                      {'expression': 'ga:timeOnPage'},\n",
    "                      {'expression': 'ga:bounces'},\n",
    "                      {'expression': 'ga:entrances'},\n",
    "                      {'expression': 'ga:exits'}\n",
    "                  ],\n",
    "                  \"dimensions\": [\n",
    "                      {\"name\": \"ga:pagePath\"}\n",
    "                  ],\n",
    "                  \"orderBys\": [\n",
    "                      {\"fieldName\": \"ga:pageviews\", \"sortOrder\": \"DESCENDING\"}\n",
    "                  ]\n",
    "              }\n",
    "          ]\n",
    "      }\n",
    "  ).execute()\n",
    "def print_response(response):\n",
    "  \"\"\"Parses and prints the Analytics Reporting API V4 response\"\"\"\n",
    "  for report in response.get('reports', []):\n",
    "    columnHeader = report.get('columnHeader', {})\n",
    "    dimensionHeaders = columnHeader.get('dimensions', [])\n",
    "    metricHeaders = columnHeader.get('metricHeader', {}).get('metricHeaderEntries', [])\n",
    "    rows = report.get('data', {}).get('rows', [])\n",
    "    for row in rows:\n",
    "      dimensions = row.get('dimensions', [])\n",
    "      dateRangeValues = row.get('metrics', [])\n",
    "      for header, dimension in zip(dimensionHeaders, dimensions):\n",
    "        print ( header + ': ' + dimension )\n",
    "      for i, values in enumerate(dateRangeValues):\n",
    "        print ('Date range (' + str(i) + ')' )\n",
    "        for metricHeader, value in zip(metricHeaders, values.get('values')):\n",
    "          print ( metricHeader.get('name') + ': ' + value )\n",
    "def main():\n",
    "  analytics = initialize_analyticsreporting()\n",
    "  response = get_report(analytics)\n",
    "  print_response(response)\n",
    "if __name__ == '__main__':\n",
    "  main()"
   ]
  },
  {
   "cell_type": "code",
   "execution_count": null,
   "metadata": {},
   "outputs": [],
   "source": []
  },
  {
   "cell_type": "code",
   "execution_count": null,
   "metadata": {},
   "outputs": [],
   "source": []
  },
  {
   "cell_type": "code",
   "execution_count": null,
   "metadata": {},
   "outputs": [],
   "source": []
  },
  {
   "cell_type": "code",
   "execution_count": null,
   "metadata": {},
   "outputs": [],
   "source": []
  },
  {
   "cell_type": "code",
   "execution_count": null,
   "metadata": {},
   "outputs": [],
   "source": []
  },
  {
   "cell_type": "code",
   "execution_count": null,
   "metadata": {},
   "outputs": [],
   "source": []
  },
  {
   "cell_type": "code",
   "execution_count": null,
   "metadata": {},
   "outputs": [],
   "source": []
  }
 ],
 "metadata": {
  "kernelspec": {
   "display_name": "tf2",
   "language": "python",
   "name": "tf2"
  },
  "language_info": {
   "codemirror_mode": {
    "name": "ipython",
    "version": 3
   },
   "file_extension": ".py",
   "mimetype": "text/x-python",
   "name": "python",
   "nbconvert_exporter": "python",
   "pygments_lexer": "ipython3",
   "version": "3.6.9"
  }
 },
 "nbformat": 4,
 "nbformat_minor": 2
}
